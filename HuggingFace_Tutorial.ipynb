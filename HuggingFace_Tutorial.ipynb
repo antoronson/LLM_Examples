{
  "nbformat": 4,
  "nbformat_minor": 0,
  "metadata": {
    "colab": {
      "provenance": [],
      "authorship_tag": "ABX9TyMjNNFUUCogaS2lcHjTQDTf",
      "include_colab_link": true
    },
    "kernelspec": {
      "name": "python3",
      "display_name": "Python 3"
    },
    "language_info": {
      "name": "python"
    }
  },
  "cells": [
    {
      "cell_type": "markdown",
      "metadata": {
        "id": "view-in-github",
        "colab_type": "text"
      },
      "source": [
        "<a href=\"https://colab.research.google.com/github/antoronson/LLM_Examples/blob/main/HuggingFace_Tutorial.ipynb\" target=\"_parent\"><img src=\"https://colab.research.google.com/assets/colab-badge.svg\" alt=\"Open In Colab\"/></a>"
      ]
    },
    {
      "cell_type": "code",
      "execution_count": 5,
      "metadata": {
        "colab": {
          "base_uri": "https://localhost:8080/"
        },
        "id": "FwFLsmBow_Ql",
        "outputId": "0ada5950-b9f4-473c-efe0-bf9d9783c6f1"
      },
      "outputs": [
        {
          "output_type": "stream",
          "name": "stderr",
          "text": [
            "No model was supplied, defaulted to distilbert/distilbert-base-uncased-finetuned-sst-2-english and revision af0f99b (https://huggingface.co/distilbert/distilbert-base-uncased-finetuned-sst-2-english).\n",
            "Using a pipeline without specifying a model name and revision in production is not recommended.\n",
            "/usr/local/lib/python3.10/dist-packages/huggingface_hub/file_download.py:1132: FutureWarning: `resume_download` is deprecated and will be removed in version 1.0.0. Downloads always resume when possible. If you want to force a new download, use `force_download=True`.\n",
            "  warnings.warn(\n"
          ]
        },
        {
          "output_type": "execute_result",
          "data": {
            "text/plain": [
              "[{'label': 'NEGATIVE', 'score': 0.9593493342399597},\n",
              " {'label': 'NEGATIVE', 'score': 0.9935446977615356},\n",
              " {'label': 'POSITIVE', 'score': 0.9928061366081238}]"
            ]
          },
          "metadata": {},
          "execution_count": 5
        }
      ],
      "source": [
        "# Testing sentiment analysis pipeline\n",
        "from transformers import pipeline\n",
        "classifier = pipeline(\"sentiment-analysis\")\n",
        "\n",
        "myText1=\"I've been waiting for studying the LLM models my whole life\"\n",
        "myText2=\"I hate doing routine job\"\n",
        "myText3=\"I've been waiting happily for studying the LLM models my whole life\"\n",
        "classifier(\n",
        "    [\n",
        "        myText1,\n",
        "        myText2,\n",
        "        myText3\n",
        "    ]\n",
        ")\n"
      ]
    },
    {
      "cell_type": "markdown",
      "source": [
        "As we see in the above pipeline model, the mytext1 and mytext3 differ by just one word \"happily\" and this word decides the score of the classifier. Text 1 being identified as negative whereas Text 3 being identified as positive.\n",
        "\n",
        "Now lets test the model with components behind the pipeline (Tokenizer, model and post processor)\n",
        "\n"
      ],
      "metadata": {
        "id": "2U1Use-ZypvP"
      }
    },
    {
      "cell_type": "code",
      "source": [],
      "metadata": {
        "id": "Rayh_2G6zL8b"
      },
      "execution_count": null,
      "outputs": []
    }
  ]
}